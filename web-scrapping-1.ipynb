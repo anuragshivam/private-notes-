{
 "cells": [
  {
   "cell_type": "code",
   "execution_count": 9,
   "metadata": {
    "collapsed": true
   },
   "outputs": [],
   "source": [
    "# using beautiful soup for doing web scrapping from wikipedia\n",
    "\n",
    "\n",
    "import pandas as pd \n",
    "import requests\n",
    "from bs4 import BeautifulSoup\n",
    "\n",
    "url  = \"https://en.wikipedia.org/wiki/World_population\"\n",
    "r  = requests.get(url)\n",
    "data = r.text\n",
    "\n",
    "soup  = BeautifulSoup(data)\n",
    "\n",
    "#now our website is loaded in BS\n",
    "# first we will strip a table out... by using <\"table\"> tag\n",
    "\n",
    "table = soup.find_all(\"table\")\n",
    "\n",
    "# the find all creates a table list , which means all tables are loaded in as elemens of the list\n",
    "# table = [table0 , table[1]   ....... ] \n",
    "\n",
    "my_table = table[1]\n",
    "\n",
    "# here we are pulling out second element from table list \n"
   ]
  },
  {
   "cell_type": "code",
   "execution_count": 10,
   "metadata": {
    "collapsed": false
   },
   "outputs": [],
   "source": [
    "# now out table is loaded \n",
    "\n",
    "#now we will get inside the table , ie we will create another list but this time the list will be of <\"tr\"> tag\n",
    "\n",
    "# i have indexed from 2 - 12 because that is the data i want to use \n",
    "\n",
    "extracting_tr = my_table.find_all(\"tr\")[2:12]\n",
    "\n",
    "# finally we will be extracting <\"td\"> from <tr> tags , this is where the real data is present\n",
    "\n",
    "data = {\n",
    "    'country' : [],\n",
    "    'year 2015' : [],\n",
    "    'year 2050' :[]\n",
    "}\n",
    "\n",
    "# since the extracting_tr is a list having <tr> we can loop through it as a list\n",
    "\n",
    "for index in extracting_tr:\n",
    "    colums = index.find_all(\"td\")\n",
    "    data['country'].append(colums[1].get_text())\n",
    "    data['year 2015'].append(colums[3].get_text())\n",
    "    data['year 2050'].append(colums[4].get_text())\n",
    "    \n",
    "# finally getting the dictionary into a pandas dataframe\n",
    "\n",
    "final_population_table = pd.DataFrame(data)\n",
    "\n",
    "\n",
    "\n",
    "\n",
    "\n"
   ]
  },
  {
   "cell_type": "code",
   "execution_count": 11,
   "metadata": {
    "collapsed": false
   },
   "outputs": [
    {
     "name": "stdout",
     "output_type": "stream",
     "text": [
      "hello\n"
     ]
    }
   ],
   "source": [
    "print(\"hello\")"
   ]
  },
  {
   "cell_type": "code",
   "execution_count": null,
   "metadata": {
    "collapsed": true
   },
   "outputs": [],
   "source": []
  }
 ],
 "metadata": {
  "anaconda-cloud": {},
  "kernelspec": {
   "display_name": "Python [Root]",
   "language": "python",
   "name": "Python [Root]"
  },
  "language_info": {
   "codemirror_mode": {
    "name": "ipython",
    "version": 2
   },
   "file_extension": ".py",
   "mimetype": "text/x-python",
   "name": "python",
   "nbconvert_exporter": "python",
   "pygments_lexer": "ipython2",
   "version": "2.7.12"
  }
 },
 "nbformat": 4,
 "nbformat_minor": 0
}
