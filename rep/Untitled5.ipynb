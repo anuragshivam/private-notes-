{
 "cells": [
  {
   "cell_type": "code",
   "execution_count": null,
   "metadata": {
    "collapsed": true
   },
   "outputs": [],
   "source": [
    "import pandas as pd \n",
    "train = pd.read_csv(\"train (1).csv\")\n",
    "test = pd.read_csv('test (1).csv')"
   ]
  },
  {
   "cell_type": "code",
   "execution_count": null,
   "metadata": {
    "collapsed": true
   },
   "outputs": [],
   "source": [
    "train['Age'] = train['Age'].fillna(train['Age'].median())\n",
    "train['Embarked'] = train['Embarked'].fillna('S')\n",
    "train.loc[train['Embarked'] == 'S' , 'Embarked'] = 0\n",
    "train.loc[train['Embarked'] == 'C' , 'Embarked'] = 1\n",
    "train.loc[train['Embarked'] == 'Q' , 'Embarked'] = 2\n",
    "train['fs'] = train['SibSp'] + train['Parch']\n",
    "test['fs'] = test['SibSp'] + test['Parch']\n",
    "test['Age'] = test['Age'].fillna(test['Age'].median())\n",
    "test['Fare'] = test['Fare'].fillna(test['Fare'].mean())\n",
    "test['Embarked'] = test['Embarked'].fillna('S')\n",
    "test.loc[test['Embarked'] == 'S' , 'Embarked'] = 0\n",
    "test.loc[test['Embarked'] == 'C' , 'Embarked'] = 1\n",
    "test.loc[test['Embarked'] == 'Q' , 'Embarked'] = 2\n",
    "train.loc[train.Sex == \"male\" , 'Sex'] = 1\n",
    "test.loc[test.Sex == \"male\" , 'Sex'] = 1\n",
    "train.loc[train.Sex == \"female\" , 'Sex'] = 0\n",
    "test.loc[test.Sex == \"female\" , 'Sex'] = 0"
   ]
  },
  {
   "cell_type": "code",
   "execution_count": null,
   "metadata": {
    "collapsed": true
   },
   "outputs": [],
   "source": [
    "train_x = train[['Pclass' , 'Sex' , 'SibSp','Parch' , 'Age' , 'fs' , 'Embarked' ]]\n",
    "train_y = train[['Survived']]\n",
    "test_x = test[['Pclass' , 'Sex' , 'SibSp','Parch' , 'Age' , 'fs' , 'Embarked']]\n",
    "from sklearn.preprocessing import MinMaxScaler\n",
    "clf  = MinMaxScaler()\n",
    "train_x_s = clf.fit_transform(train_x)\n",
    "test_x_s = clf.transform(test_x)\n",
    "\n",
    "from sklearn.linear_model import LogisticRegression \n",
    "lg = LogisticRegression()\n"
   ]
  },
  {
   "cell_type": "markdown",
   "metadata": {},
   "source": [
    " the use of logistic regression is because of my inability to tune random forest ensemble properly . i have noted the concern and i am looking to fix it "
   ]
  },
  {
   "cell_type": "code",
   "execution_count": null,
   "metadata": {
    "collapsed": true
   },
   "outputs": [],
   "source": [
    "clf.fit(train_x_s , train_y)\n",
    "\n",
    "\n",
    "predict = clf.predict(test_x_s)\n",
    "\n",
    "submission = pd.DataFrame({ 'PassengerID' : test['PassengerId'] , \n",
    "\t                         'Survived' : predict})\n",
    "submission.to_csv('dr0.csv' , index = False)"
   ]
  }
 ],
 "metadata": {
  "kernelspec": {
   "display_name": "Python [Root]",
   "language": "python",
   "name": "Python [Root]"
  },
  "language_info": {
   "codemirror_mode": {
    "name": "ipython",
    "version": 2
   },
   "file_extension": ".py",
   "mimetype": "text/x-python",
   "name": "python",
   "nbconvert_exporter": "python",
   "pygments_lexer": "ipython2",
   "version": "2.7.12"
  }
 },
 "nbformat": 4,
 "nbformat_minor": 0
}
